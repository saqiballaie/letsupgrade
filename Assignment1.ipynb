{
  "nbformat": 4,
  "nbformat_minor": 0,
  "metadata": {
    "colab": {
      "name": "Assignment1.ipynb",
      "provenance": [],
      "collapsed_sections": []
    },
    "kernelspec": {
      "name": "python3",
      "display_name": "Python 3"
    }
  },
  "cells": [
    {
      "cell_type": "code",
      "metadata": {
        "id": "g_YWIuTfSjGv"
      },
      "source": [
        "#RAINBOW "
      ],
      "execution_count": null,
      "outputs": []
    },
    {
      "cell_type": "code",
      "metadata": {
        "id": "cdaErTvkTYWf"
      },
      "source": [
        "print(\"LETS UPGRADE\")"
      ],
      "execution_count": null,
      "outputs": []
    },
    {
      "cell_type": "code",
      "metadata": {
        "id": "guUgMaKOToWc"
      },
      "source": [
        "cost_price=90\n",
        "selling_price=90\n",
        "if cost_price>selling_price:\n",
        "  print(\"Loss\")\n",
        "if cost_price<selling_price:\n",
        "  print(\"Profit\")\n",
        "if cost_price==selling_price:\n",
        "  print(\"Neither\")"
      ],
      "execution_count": null,
      "outputs": []
    },
    {
      "cell_type": "code",
      "metadata": {
        "id": "rUDVSIebUk96"
      },
      "source": [
        "input=20\n",
        "output=input*80\n",
        "print(output)"
      ],
      "execution_count": null,
      "outputs": []
    },
    {
      "cell_type": "code",
      "metadata": {
        "id": "EZMTWPbyUvAU"
      },
      "source": [
        ""
      ],
      "execution_count": null,
      "outputs": []
    }
  ]
}