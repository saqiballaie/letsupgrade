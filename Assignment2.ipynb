{
  "nbformat": 4,
  "nbformat_minor": 0,
  "metadata": {
    "colab": {
      "name": "Assignment2.ipynb",
      "provenance": [],
      "collapsed_sections": []
    },
    "kernelspec": {
      "name": "python3",
      "display_name": "Python 3"
    }
  },
  "cells": [
    {
      "cell_type": "code",
      "metadata": {
        "id": "niJFA49prA7l"
      },
      "source": [
        "#Question1\n",
        "list=[]\n",
        "print (list)\n",
        "i=1\n",
        "while i<=10:\n",
        "  number = int(input(\"Enter a number:\") )\n",
        "  if (number%2) == 0:\n",
        "    list.append(number)\n",
        "  i+=1\n",
        "print(list)\n"
      ],
      "execution_count": null,
      "outputs": []
    },
    {
      "cell_type": "code",
      "metadata": {
        "id": "Gkn-qv7BuYk1"
      },
      "source": [
        "#Question2\n",
        "numbers = [9, 22, 63, 44, 65]\n",
        "cubes= [number**3 for number in numbers ]\n",
        "print(cubes)\n",
        "cubes_even=[number**3 for number in numbers if number%2==0]\n",
        "print(cubes_even)\n",
        "cubes_odd=[number**3 for number in numbers if number%2!=0]\n",
        "print(cubes_odd)"
      ],
      "execution_count": null,
      "outputs": []
    },
    {
      "cell_type": "code",
      "metadata": {
        "id": "YsKUTaIv1ibo"
      },
      "source": [
        "#Question3\n",
        "number=int(input())\n",
        "d = dict()\n",
        "for x in range(1,number+1):\n",
        "  d[x]=x*x\n",
        "print(d) "
      ],
      "execution_count": null,
      "outputs": []
    },
    {
      "cell_type": "code",
      "metadata": {
        "id": "9S7-viqoyHL0"
      },
      "source": [
        "#Question4\n",
        "position = {\"x\":0,\"y\":0}\n",
        "number = int(input())\n",
        "for _ in range (number):\n",
        "  command =  input().split(\" \")      \n",
        "  if command[0] == \"UP\":             \n",
        "    position[\"y\"] += int(command[1])\n",
        "  if command[0] == \"DOWN\":\n",
        "    position[\"y\"] -= int(command[1])\n",
        "  if command[0] == \"LEFT\":\n",
        "    position[\"x\"] -= int(command[1])\n",
        "  if command[0] == \"RIGHT\":\n",
        "    position[\"x\"] += int(command[1])\n",
        "print(int(round((position[\"x\"]**2 + position[\"y\"]**2)**0.5)))   "
      ],
      "execution_count": null,
      "outputs": []
    }
  ]
}