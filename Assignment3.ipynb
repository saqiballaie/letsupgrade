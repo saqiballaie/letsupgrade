{
  "nbformat": 4,
  "nbformat_minor": 0,
  "metadata": {
    "colab": {
      "name": "Assignment3.ipynb",
      "provenance": [],
      "collapsed_sections": []
    },
    "kernelspec": {
      "name": "python3",
      "display_name": "Python 3"
    }
  },
  "cells": [
    {
      "cell_type": "code",
      "metadata": {
        "id": "0LPwPD0zyhlK"
      },
      "source": [
        "import numpy as np"
      ],
      "execution_count": 33,
      "outputs": []
    },
    {
      "cell_type": "code",
      "metadata": {
        "id": "YoVvvIC5ynXf",
        "outputId": "70058f5b-2585-4abe-d8c9-610e74361135",
        "colab": {
          "base_uri": "https://localhost:8080/"
        }
      },
      "source": [
        "#Question1\n",
        "np.arange(2,50,3)"
      ],
      "execution_count": 34,
      "outputs": [
        {
          "output_type": "execute_result",
          "data": {
            "text/plain": [
              "array([ 2,  5,  8, 11, 14, 17, 20, 23, 26, 29, 32, 35, 38, 41, 44, 47])"
            ]
          },
          "metadata": {
            "tags": []
          },
          "execution_count": 34
        }
      ]
    },
    {
      "cell_type": "code",
      "metadata": {
        "id": "BKWGHJ4hzhaI",
        "outputId": "c7e3a4c4-b807-47c9-aa2f-fee356425f57",
        "colab": {
          "base_uri": "https://localhost:8080/"
        }
      },
      "source": [
        "#Question2\n",
        "list1 = list(map(int,input(\"\\nEnter the numbers for List1 : \").strip().split()))[:5]\n",
        "list2 = list(map(int,input(\"\\nEnter the numbers for List2 : \").strip().split()))[:5]\n",
        "array1 = np.array(list1)\n",
        "array2 = np.array(list2)\n",
        "np.concatenate((array1,array2),axis=0)\n"
      ],
      "execution_count": 35,
      "outputs": [
        {
          "output_type": "stream",
          "text": [
            "\n",
            "Enter the numbers for List1 : 1 7 6 3 8\n",
            "\n",
            "Enter the numbers for List2 : 4 5 2 7 5\n"
          ],
          "name": "stdout"
        },
        {
          "output_type": "execute_result",
          "data": {
            "text/plain": [
              "array([1, 7, 6, 3, 8, 4, 5, 2, 7, 5])"
            ]
          },
          "metadata": {
            "tags": []
          },
          "execution_count": 35
        }
      ]
    },
    {
      "cell_type": "code",
      "metadata": {
        "id": "7ukmm1W33QJg",
        "outputId": "63691e94-deb6-4f46-9a1d-2fa95d45ecf5",
        "colab": {
          "base_uri": "https://localhost:8080/"
        }
      },
      "source": [
        "#Question3\n",
        "print(array1.ndim)\n",
        "print(array1.size)"
      ],
      "execution_count": 36,
      "outputs": [
        {
          "output_type": "stream",
          "text": [
            "1\n",
            "5\n"
          ],
          "name": "stdout"
        }
      ]
    },
    {
      "cell_type": "code",
      "metadata": {
        "id": "SE8T8zjV39M0",
        "outputId": "1b3b4dba-fe3c-40e8-dc7a-445d12396bd0",
        "colab": {
          "base_uri": "https://localhost:8080/"
        }
      },
      "source": [
        "#Question4\n",
        "array_1D = np.array([0, 1, 2, 3, 4, 5, 6, 7, 8, 9])\n",
        "print('1D Numpy array:')\n",
        "print(array_1D)\n",
        "array_2D=np.reshape(array_1D,(-1,2))\n",
        "print(array_2D)"
      ],
      "execution_count": 37,
      "outputs": [
        {
          "output_type": "stream",
          "text": [
            "1D Numpy array:\n",
            "[0 1 2 3 4 5 6 7 8 9]\n",
            "[[0 1]\n",
            " [2 3]\n",
            " [4 5]\n",
            " [6 7]\n",
            " [8 9]]\n"
          ],
          "name": "stdout"
        }
      ]
    },
    {
      "cell_type": "code",
      "metadata": {
        "id": "exV91IJR7u7_",
        "outputId": "b11a3dbb-b86f-4461-d127-8475945a1c96",
        "colab": {
          "base_uri": "https://localhost:8080/"
        }
      },
      "source": [
        "#Question5\n",
        "a = np.arange(4).reshape(2, 2)\n",
        "print(a)\n",
        "b = np.random.rand(2, 2)\n",
        "print(b)\n",
        "print(np.hstack((a,b)))\n",
        "print(np.vstack((a,b)))"
      ],
      "execution_count": 38,
      "outputs": [
        {
          "output_type": "stream",
          "text": [
            "[[0 1]\n",
            " [2 3]]\n",
            "[[0.87465177 0.77635882]\n",
            " [0.92984223 0.18903715]]\n",
            "[[0.         1.         0.87465177 0.77635882]\n",
            " [2.         3.         0.92984223 0.18903715]]\n",
            "[[0.         1.        ]\n",
            " [2.         3.        ]\n",
            " [0.87465177 0.77635882]\n",
            " [0.92984223 0.18903715]]\n"
          ],
          "name": "stdout"
        }
      ]
    },
    {
      "cell_type": "code",
      "metadata": {
        "id": "BfiN-_zK9Yw6",
        "outputId": "90984869-dbef-4b5d-b5e7-4d7a1652e326",
        "colab": {
          "base_uri": "https://localhost:8080/"
        }
      },
      "source": [
        "#Question6\n",
        "import random\n",
        "item_list = []\n",
        "for i in range(0,30):\n",
        "  n=random.randint(1,15)\n",
        "  item_list.append(n)\n",
        "print(item_list)\n",
        "\n",
        "unique_items = set(item_list)\n",
        "number_of_unique_values = len(unique_items)\n",
        "print(unique_items)\n",
        "print(number_of_unique_values)"
      ],
      "execution_count": 39,
      "outputs": [
        {
          "output_type": "stream",
          "text": [
            "[4, 1, 9, 3, 6, 13, 3, 15, 13, 13, 14, 4, 2, 11, 9, 10, 10, 2, 11, 8, 12, 14, 1, 6, 1, 7, 9, 5, 14, 14]\n",
            "{1, 2, 3, 4, 5, 6, 7, 8, 9, 10, 11, 12, 13, 14, 15}\n",
            "15\n"
          ],
          "name": "stdout"
        }
      ]
    }
  ]
}